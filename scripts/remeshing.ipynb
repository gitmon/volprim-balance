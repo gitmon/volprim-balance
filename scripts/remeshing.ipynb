{
 "cells": [
  {
   "cell_type": "code",
   "execution_count": 1,
   "metadata": {},
   "outputs": [],
   "source": [
    "import gpytoolbox as gpy # read_mesh, subdivide, remesh_botsch\n",
    "import polyscope as ps\n",
    "\n",
    "dir = \"../scenes/mitsuba/classroom/\""
   ]
  },
  {
   "cell_type": "code",
   "execution_count": 35,
   "metadata": {},
   "outputs": [
    {
     "name": "stdout",
     "output_type": "stream",
     "text": [
      "Scene statistics: nV = 354682, nF = 530618\n"
     ]
    }
   ],
   "source": [
    "import numpy as np\n",
    "import os\n",
    "\n",
    "def mean_edge_length(V, F):\n",
    "    E = gpy.edges(F)\n",
    "    edge_lengths = np.linalg.norm(V[E[:,0],:] - V[E[:,1],:], axis=1)\n",
    "    aspect = np.max(edge_lengths) / np.min(edge_lengths)\n",
    "    return np.quantile(edge_lengths, 0.9), aspect\n",
    "\n",
    "def mean_area(V, F):\n",
    "    areas = gpy.doublearea(V, F)\n",
    "    return np.max(areas)\n",
    "\n",
    "source_dir = os.path.join(dir, \"models\")\n",
    "output_dir = os.path.join(dir, \"models_refine\")\n",
    "\n",
    "surfs = []\n",
    "\n",
    "target_edge_length = 0.2\n",
    "max_aspect = 200\n",
    "max_unit_area = 100\n",
    "\n",
    "try:\n",
    "    os.makedirs(os.path.join(dir, \"models_refine\"))\n",
    "except:\n",
    "    pass\n",
    "\n",
    "ps.init()\n",
    "\n",
    "nV = nF = 0\n",
    "\n",
    "for file in os.listdir(os.fsencode(source_dir)):\n",
    "    filename = os.fsdecode(file)\n",
    "    if not(filename.endswith(\".obj\")):\n",
    "        continue\n",
    "    \n",
    "    V, F = gpy.read_mesh(os.path.join(source_dir, filename))\n",
    "    # surfs.append(ps.register_surface_mesh(f\"{filename}_init\", V, F, enabled=True, edge_width=1.0))\n",
    "\n",
    "    avg_edge_length, aspect = mean_edge_length(V, F)\n",
    "    can_subdiv = (aspect < max_aspect) or (mean_area(V, F) > max_unit_area * target_edge_length ** 2)\n",
    "    if can_subdiv:\n",
    "        subdivs = max(1, int(np.log2(avg_edge_length / target_edge_length)))\n",
    "        V, F = gpy.subdivide(V, F, iters = subdivs)\n",
    "    # V, F = gpy.remesh_botsch(V, F, i = 10, h = target_edge_length)\n",
    "    nV += V.shape[0]\n",
    "    nF += F.shape[0]\n",
    "    gpy.write_mesh(os.path.join(output_dir, filename), V, F)\n",
    "\n",
    "    surfs.append(ps.register_surface_mesh(f\"{filename}_remeshed\", V, F, enabled=True, edge_width=1.0 if can_subdiv else None))\n",
    "    # break\n",
    "\n",
    "ps.show()\n",
    "for surf in surfs:\n",
    "    surf.remove()\n",
    "\n",
    "print(f\"Scene statistics: nV = {nV}, nF = {nF}\")"
   ]
  }
 ],
 "metadata": {
  "kernelspec": {
   "display_name": "volprim",
   "language": "python",
   "name": "python3"
  },
  "language_info": {
   "codemirror_mode": {
    "name": "ipython",
    "version": 3
   },
   "file_extension": ".py",
   "mimetype": "text/x-python",
   "name": "python",
   "nbconvert_exporter": "python",
   "pygments_lexer": "ipython3",
   "version": "3.11.11"
  }
 },
 "nbformat": 4,
 "nbformat_minor": 2
}
